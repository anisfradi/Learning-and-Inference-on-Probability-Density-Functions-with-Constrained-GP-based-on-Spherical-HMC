{
 "cells": [
  {
   "cell_type": "markdown",
   "metadata": {},
   "source": [
    "# import librairies"
   ]
  },
  {
   "cell_type": "code",
   "execution_count": null,
   "metadata": {},
   "outputs": [],
   "source": [
    "import math\n",
    "import numpy as np\n",
    "import matplotlib.pyplot as plt\n",
    "from scipy.linalg import cholesky, cho_solve\n",
    "from numpy.linalg import norm\n",
    "from scipy.stats import beta\n",
    "import seaborn as sns\n",
    "import pandas as pd\n",
    "from scipy.interpolate import interp1d\n",
    "import timeit\n",
    "import scipy.io as sio\n",
    "import scipy.integrate as integrate\n",
    "from sklearn import manifold\n",
    "from sklearn.utils.validation import column_or_1d"
   ]
  },
  {
   "cell_type": "markdown",
   "metadata": {},
   "source": [
    "# define eigenvalues: $\\lambda_j$ and eigenfunctions: $\\phi_j(x)$ of the Matérn operator"
   ]
  },
  {
   "cell_type": "code",
   "execution_count": null,
   "metadata": {},
   "outputs": [],
   "source": [
    "eps0=1 # shape parameter\n",
    "s0= 1.2 # smoothness parameter\n",
    "\n",
    "# the eigenvalue: \\lambda_j\n",
    "def eigenv_matern(j, epsilon_M = eps0 , s=s0):\n",
    "    lambda_j = 1/(epsilon_M + (j*math.pi)**2)**s\n",
    "    return lambda_j\n",
    "    \n",
    "# the values of eigenfunction evaluated at x: \\phi_j(x)    \n",
    "def eigenf_matern(j, x):\n",
    "    return np.sqrt(2)*np.sin(j*math.pi*x)"
   ]
  },
  {
   "cell_type": "markdown",
   "metadata": {},
   "source": [
    "# construct the vector of eigenfunctions: $(\\phi_1(x),..,\\phi_n(x))$ and the matrix of eigenvalues: $diag([\\lambda_1,...,\\lambda_n])$"
   ]
  },
  {
   "cell_type": "code",
   "execution_count": null,
   "metadata": {},
   "outputs": [],
   "source": [
    "# a vector with j-th component is: eigenf_matern(j,x)\n",
    "def Phi_Matern(x, NT):\n",
    "    Phi = []\n",
    "    for j in range(0,NT):\n",
    "        Phi.append(eigenf_matern(j+1, x))\n",
    "    return np.asarray(Phi).T\n",
    "\n",
    "# a diagonal matrix with j-th component is: eigenv_matern(j)\n",
    "def Lambda_Matern(NT):\n",
    "    Lambda = np.zeros(NT)\n",
    "    for j in range(0,NT):\n",
    "        Lambda[j] = eigenv_matern(j+1) \n",
    "    return np.diag(Lambda)"
   ]
  },
  {
   "cell_type": "markdown",
   "metadata": {},
   "source": [
    "# evaluate the truncated GP: $f_n(x) = \\sum_{j=1}^{n}a_j\\phi_j(x)$"
   ]
  },
  {
   "cell_type": "code",
   "execution_count": null,
   "metadata": {},
   "outputs": [],
   "source": [
    "def EVAL_function_M(A,x):\n",
    "    A = np.asarray(A)\n",
    "    dim = A.shape\n",
    "    if len(dim) == 1:\n",
    "        NT = len(A)\n",
    "    else:\n",
    "        if len(dim) == 2:\n",
    "            NT = dim[1]\n",
    "        else:\n",
    "            raise ValueError('A very specific bad thing happened.')\n",
    "\n",
    "    Phi = Phi_Matern(x, NT)\n",
    "    return np.matmul(Phi,A.T).T "
   ]
  },
  {
   "cell_type": "markdown",
   "metadata": {},
   "source": [
    "# construct the matrix of eigenvalues: $diag([1/\\lambda_1,...,1/\\lambda_n])$"
   ]
  },
  {
   "cell_type": "code",
   "execution_count": null,
   "metadata": {},
   "outputs": [],
   "source": [
    "def Inv_Lambda_Matern(NT ):\n",
    "    Lambda = np.zeros(NT)\n",
    "    for j in range(0, NT):\n",
    "        Lambda[j] = 1/eigenv_matern(j+1)\n",
    "    return np.diag(Lambda)"
   ]
  },
  {
   "cell_type": "markdown",
   "metadata": {},
   "source": [
    "# evaluate the posterior distribution of $A=(a_1,...,a_n)^T$"
   ]
  },
  {
   "cell_type": "code",
   "execution_count": null,
   "metadata": {},
   "outputs": [],
   "source": [
    "sigma = 10**(-2) # noise std\n",
    "\n",
    "def Mean_Covariance_Matern(x, y, NT, sigma = sigma ):\n",
    "    \"\"\"\n",
    "    Input:\n",
    "    x,y: Data\n",
    "    NT: number of truncation\n",
    "    sigma: noise std\n",
    "    Output:\n",
    "    mu: mean\n",
    "    Sigma: covariance\n",
    "    \"\"\"\n",
    "    inv_Lambda = Inv_Lambda_Matern(NT)\n",
    "    Phi = Phi_Matern(x,NT)\n",
    "    inv_Covariance = 1/sigma**2*np.matmul(Phi.T,Phi) + inv_Lambda\n",
    "    Covariance = np.linalg.inv(inv_Covariance)\n",
    "    temp1 = np.matmul(Phi.T, y)\n",
    "    Mean = 1/sigma**2*np.matmul(Covariance, temp1)  \n",
    "    return Mean, inv_Covariance "
   ]
  },
  {
   "cell_type": "markdown",
   "metadata": {},
   "source": [
    "# evaluate the potential at $A$: $U(A)$ and its gradient: $\\nabla U(A)$"
   ]
  },
  {
   "cell_type": "code",
   "execution_count": null,
   "metadata": {},
   "outputs": [],
   "source": [
    "def Potential_Matern(A,x,y):\n",
    "    NT = len(A)\n",
    "    mu,   S_inv = Mean_Covariance_Matern(x, y, NT) \n",
    "    temp = A.flatten() - mu.flatten()\n",
    "    Potential = np.matmul(np.matmul(temp,S_inv),temp)/2\n",
    "    return -Potential\n",
    "\n",
    "def Potential_Der_Matern(A,x,y):\n",
    "    NT = len(A)\n",
    "    mu,  S_inv = Mean_Covariance_Matern(x, y, NT) \n",
    "    return -np.matmul(A.flatten()-mu.flatten(),S_inv).flatten() "
   ]
  },
  {
   "cell_type": "markdown",
   "metadata": {},
   "source": [
    "# spherical HMC sampling as a one leap-frop with L iterations"
   ]
  },
  {
   "cell_type": "code",
   "execution_count": null,
   "metadata": {},
   "outputs": [],
   "source": [
    "def SphHMC(Potential, Potential_Derivative, A_cur,  x, y, L , eps ):\n",
    "    A = A_cur\n",
    "    NT = len(A_cur)\n",
    "    v_r = np.random.normal(size=(NT,)) \n",
    "    v = v_r - np.inner(A_cur, v_r)*A_cur  \n",
    "    Samp = []\n",
    "    P  = []\n",
    "    DP = []\n",
    "    NV = []\n",
    "    U_0 = Potential(A, x,y  )\n",
    "    P.append(U_0 )\n",
    "    du   = Potential_Derivative(A_cur , x,y)\n",
    "    DP.append(norm(du) )\n",
    "    NV.append(norm(v))\n",
    "    i =0\n",
    "    H_1 = U_0 - sum(v**2)/2\n",
    "    L = 1 + int(np.ceil(np.random.uniform(0,L)))\n",
    "    while   i < L :\n",
    "        Samp.append(A)\n",
    "        du  = Potential_Derivative(A , x,y)\n",
    "        du = du - np.inner(A,du)*A\n",
    "        v = v + eps/2*du\n",
    "        A0 = A.flatten()\n",
    "        v_norm = norm(v )\n",
    "        cosvt = math.cos(v_norm*eps)\n",
    "        sinvt = math.sin(v_norm*eps)\n",
    "        A = A0*cosvt + v/v_norm*sinvt  \n",
    "        v = (-A0*sinvt*v_norm + v*cosvt)\n",
    "        du = Potential_Derivative(A, x,y)\n",
    "        du = du - np.inner(A,du)*A\n",
    "        DP.append(norm(du))\n",
    "        v = v + eps/2*du \n",
    "        U_i = Potential(A,x,y  )\n",
    "        P.append(U_i)\n",
    "        NV.append(norm(v))\n",
    "        i +=1    \n",
    "    Samp.append(A)\n",
    "    NV.append(norm(v)) \n",
    "    H_L = U_i - sum(v**2)/2\n",
    "    if math.log(np.random.rand()) < -H_L+H_1:\n",
    "        return A, 1, Samp, U_i, du, norm(v) , H_L-H_1\n",
    "    else:\n",
    "        return A_cur, 0, Samp, U_i, du, norm(v), H_L-H_1"
   ]
  },
  {
   "cell_type": "markdown",
   "metadata": {},
   "source": [
    "# generate an example of PDF and find its square-root (SRDF)"
   ]
  },
  {
   "cell_type": "code",
   "execution_count": null,
   "metadata": {},
   "outputs": [],
   "source": [
    "def sin_10(x):\n",
    "    return abs((1-x)*(1 + np.sin(-math.pi/2 + 2*math.pi*x*5)))\n",
    "\n",
    "def True_function(x):\n",
    "    #return SRDF of beta distribution with params beta1, beta2\n",
    "    I = integrate.quad(lambda t: sin_10(t), 0,1)[0]\n",
    "    return  np.sqrt(sin_10(x)/I)     "
   ]
  },
  {
   "cell_type": "markdown",
   "metadata": {},
   "source": [
    "# display the generated PDF and SRDF"
   ]
  },
  {
   "cell_type": "code",
   "execution_count": null,
   "metadata": {},
   "outputs": [],
   "source": [
    "x_obs = np.linspace(0, 1, num=25 , endpoint=True)\n",
    "plt.plot(x_obs, True_function(x_obs),label='SRDF')\n",
    "plt.plot(x_obs, True_function(x_obs)**2,label='PDF')\n",
    "plt.legend(loc='upper right' )\n",
    "plt.show()"
   ]
  },
  {
   "cell_type": "markdown",
   "metadata": {},
   "source": [
    "# generate random coefficients with unit norm"
   ]
  },
  {
   "cell_type": "code",
   "execution_count": null,
   "metadata": {},
   "outputs": [],
   "source": [
    "def generate_norm_1(NT):\n",
    "    q = np.random.normal(size=(NT))\n",
    "    return q/norm(q)"
   ]
  },
  {
   "cell_type": "markdown",
   "metadata": {},
   "source": [
    "# run the general MCMC sampling with NSamp leap-frog"
   ]
  },
  {
   "cell_type": "code",
   "execution_count": null,
   "metadata": {},
   "outputs": [],
   "source": [
    "NSamp = 10000\n",
    "NBurnIn =  100\n",
    "\n",
    "x_obs = np.linspace(0, 1, num=25 , endpoint=True)    \n",
    "x_comp = np.linspace(0, 1, num=500, endpoint=True)\n",
    "y_obs = True_function(x_obs)\n",
    "\n",
    "TF = True_function(x_comp)**2\n",
    "NT =30\n",
    "Samp = []\n",
    "DP = []\n",
    "NV = []\n",
    "acpt = 0\n",
    "accp = 0\n",
    "AR_probability = []\n",
    "a_0  = generate_norm_1(NT)\n",
    "S = a_0\n",
    "P =0\n",
    "\n",
    "start = timeit.default_timer()\n",
    "\n",
    "for Iter in range(NSamp):\n",
    "\n",
    "    if(Iter%100==0 and Iter >0):\n",
    "\n",
    "        print(f'\\r Acceptance rate between {Iter-100+1} and {Iter}: ', accp/100,'... ', end='', flush=True)\n",
    "        accp=0\n",
    "\n",
    "    S, ind, Samples, Potentials, DPotentials, nv, alpha = SphHMC(Potential_Matern, Potential_Der_Matern,S, x_obs, y_obs, 23 , .0001 )\n",
    "    accp = accp + ind\n",
    "\n",
    "    if (Iter>NBurnIn):\n",
    "        Samp.append(S)\n",
    "        acpt = acpt +  ind\n",
    "        P = P-Potentials\n",
    "  \n",
    "\n",
    "end = timeit.default_timer()\n",
    "print('executed time:', end-start)"
   ]
  },
  {
   "cell_type": "markdown",
   "metadata": {},
   "source": [
    "# show the trajectory of some coefficients with MCMC"
   ]
  },
  {
   "cell_type": "code",
   "execution_count": null,
   "metadata": {},
   "outputs": [],
   "source": [
    "Samp_sq = np.asarray(Samp) \n",
    "\n",
    "plt.style.use('default')\n",
    "plt.plot(Samp_sq.T[0], label = 'First coefficient')\n",
    "plt.plot(Samp_sq.T[-1], label = 'Last coefficient')\n",
    "plt.legend(loc='upper left' )\n",
    "plt.show()"
   ]
  },
  {
   "cell_type": "markdown",
   "metadata": {},
   "source": [
    "# construct the confidence interval of mean: Mean_ap, lower bound: Lower, upper bound: Upper"
   ]
  },
  {
   "cell_type": "code",
   "execution_count": null,
   "metadata": {},
   "outputs": [],
   "source": [
    "def Mean_Interval_confidence(A,x):\n",
    "    F_ap  = EVAL_function_M(A, x)**2 \n",
    "    Mean_ap  = np.mean(F_ap , axis =0)\n",
    "    std_deviation = np.std(F_ap , axis=0)\n",
    "    Lower = Mean_ap - 2*std_deviation\n",
    "    Upper= Mean_ap + 2*std_deviation\n",
    "    return Mean_ap, Lower, Upper"
   ]
  },
  {
   "cell_type": "markdown",
   "metadata": {},
   "source": [
    "# intrepret the results of MCMC sampling"
   ]
  },
  {
   "cell_type": "code",
   "execution_count": null,
   "metadata": {},
   "outputs": [],
   "source": [
    "print('Global acceptance rate :',acpt/(NSamp-NBurnIn))\n",
    "M, L, U = Mean_Interval_confidence(Samp, x_comp)"
   ]
  },
  {
   "cell_type": "markdown",
   "metadata": {},
   "source": [
    "# evaluate some criteria between true and approximated PDF"
   ]
  },
  {
   "cell_type": "code",
   "execution_count": null,
   "metadata": {},
   "outputs": [],
   "source": [
    "#ISE\n",
    "Diff = (TF - M)**2\n",
    "a = 1/len(Diff)\n",
    "ISE_i = np.trapz(Diff,dx=a)\n",
    "print('the integrated squared error is:',ISE_i)\n",
    "\n",
    "#GEODESIC    \n",
    "inner = np.sqrt(M*TF)/np.sqrt(np.trapz(M,dx=1/len(M)))/np.sqrt(np.trapz(TF,dx=1/len(TF)))\n",
    "b= 1/len(inner)\n",
    "FRao = math.acos(np.trapz(inner,dx=b)) \n",
    "print('the geodesic distance is:',FRao)"
   ]
  },
  {
   "cell_type": "markdown",
   "metadata": {},
   "source": [
    "# display the true and approximated PDF "
   ]
  },
  {
   "cell_type": "code",
   "execution_count": null,
   "metadata": {},
   "outputs": [],
   "source": [
    "sns.set_style(\"whitegrid\")\n",
    "plt.rcParams.update({'font.size': 10})\n",
    "plt.rcParams.update({'legend.fontsize': 12})\n",
    "plt.rcParams['font.weight'] = 'bold'\n",
    "x_val = x_comp\n",
    "plt.plot(x_val, True_function(x_comp )**2 , 'red', label = 'True PDF', alpha = 1)\n",
    "plt.plot(x_val, M, 'g--', label ='Approximated PDF' , alpha = .9 )\n",
    "plt.fill_between(x_val, L, U, color='blue', label = 'Confidence Interval', alpha=0.3)\n",
    "plt.plot(x_obs, y_obs**2,  ' k.', label ='Observations', alpha = .7)\n",
    "plt.legend(loc='upper right' )\n",
    "plt.show()"
   ]
  }
 ],
 "metadata": {
  "kernelspec": {
   "display_name": "Python 3",
   "language": "python",
   "name": "python3"
  },
  "language_info": {
   "codemirror_mode": {
    "name": "ipython",
    "version": 3
   },
   "file_extension": ".py",
   "mimetype": "text/x-python",
   "name": "python",
   "nbconvert_exporter": "python",
   "pygments_lexer": "ipython3",
   "version": "3.7.3"
  }
 },
 "nbformat": 4,
 "nbformat_minor": 4
}
